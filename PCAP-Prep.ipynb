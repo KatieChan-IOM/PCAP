{
 "cells": [
  {
   "cell_type": "code",
   "execution_count": 4,
   "metadata": {},
   "outputs": [],
   "source": [
    "# What will be the value of the i variable when the while e loop finishes its execution?\n",
    "i = 0\n",
    "while i != 0:\n",
    "    i = i-1\n",
    "else:\n",
    "    i = i+1\n",
    "\n",
    "# 1"
   ]
  },
  {
   "cell_type": "code",
   "execution_count": null,
   "metadata": {},
   "outputs": [],
   "source": [
    "# An operator able to perform bitwise shifts is coded as (Choose two.)\n",
    "\n",
    "# <<\n",
    "# >>"
   ]
  },
  {
   "cell_type": "code",
   "execution_count": 3,
   "metadata": {},
   "outputs": [],
   "source": [
    "# What will the value of the i variable be when the following loop finishes its execution?\n",
    "for i in range(10):\n",
    "    pass\n",
    "\n",
    "# 9"
   ]
  },
  {
   "cell_type": "code",
   "execution_count": 5,
   "metadata": {},
   "outputs": [
    {
     "data": {
      "text/plain": [
       "-1"
      ]
     },
     "execution_count": 5,
     "metadata": {},
     "output_type": "execute_result"
    }
   ],
   "source": [
    "# The following expression equal to:\n",
    "1+-2\n",
    "\n",
    "# -1"
   ]
  },
  {
   "cell_type": "code",
   "execution_count": null,
   "metadata": {},
   "outputs": [],
   "source": [
    "# A compiler is a program designed to (Choose two.)\n",
    "\n",
    "# check the source code in order to see of it's correct\n",
    "# translate the source code into machine code"
   ]
  },
  {
   "cell_type": "code",
   "execution_count": 6,
   "metadata": {},
   "outputs": [
    {
     "name": "stdout",
     "output_type": "stream",
     "text": [
      "ant\"bat\"cat\n"
     ]
    }
   ],
   "source": [
    "# What is the output of the following piece of code?\n",
    "a = 'ant'\n",
    "b = 'bat'\n",
    "c = 'cat'\n",
    "print(a, b, c, sep='\"')\n",
    "\n",
    "# ant\"bat\"cat"
   ]
  },
  {
   "cell_type": "code",
   "execution_count": 11,
   "metadata": {},
   "outputs": [
    {
     "name": "stdout",
     "output_type": "stream",
     "text": [
      "2\n"
     ]
    }
   ],
   "source": [
    "# What is the expected output of the following snippet?\n",
    "i = 5\n",
    "while i > 0:\n",
    "    i = i // 2      # i floor divide by 2, so i become 2\n",
    "    if i % 2 == 0:  # if i modulo 2 == 0 (check if i is even)\n",
    "        break       # it's true so break, hence else block didn't execute\n",
    "    else:\n",
    "        i += 1\n",
    "print(i)\n",
    "\n",
    "# 2"
   ]
  },
  {
   "cell_type": "code",
   "execution_count": 12,
   "metadata": {},
   "outputs": [
    {
     "name": "stdout",
     "output_type": "stream",
     "text": [
      "***\n"
     ]
    }
   ],
   "source": [
    "# How many lines does the following snippet output?\n",
    "for i in range(1, 3):\n",
    "    print('*', end='')\n",
    "else:\n",
    "    print('*')\n",
    "\n",
    "# One line of 3 *"
   ]
  },
  {
   "cell_type": "code",
   "execution_count": 14,
   "metadata": {},
   "outputs": [
    {
     "name": "stdout",
     "output_type": "stream",
     "text": [
      "34.23\n",
      "34.23\n"
     ]
    }
   ],
   "source": [
    "# Which of the following literals reflect the value given as 34.23? (Choose two.)\n",
    "print(.3423e2)  # .3423 * 10^2\n",
    "print(3423e-2)  # 3423 * 10^-2"
   ]
  },
  {
   "cell_type": "code",
   "execution_count": 15,
   "metadata": {},
   "outputs": [
    {
     "name": "stdout",
     "output_type": "stream",
     "text": [
      "3\n"
     ]
    }
   ],
   "source": [
    "# What is the expected output of the following snippet?\n",
    "a = 2\n",
    "if a > 0:\n",
    "    a += 1      # a is > 0, hence a += 1\n",
    "else:\n",
    "    a -= 1\n",
    "print(a)"
   ]
  }
 ],
 "metadata": {
  "kernelspec": {
   "display_name": "Python 3",
   "language": "python",
   "name": "python3"
  },
  "language_info": {
   "codemirror_mode": {
    "name": "ipython",
    "version": 3
   },
   "file_extension": ".py",
   "mimetype": "text/x-python",
   "name": "python",
   "nbconvert_exporter": "python",
   "pygments_lexer": "ipython3",
   "version": "3.8.10"
  }
 },
 "nbformat": 4,
 "nbformat_minor": 2
}
