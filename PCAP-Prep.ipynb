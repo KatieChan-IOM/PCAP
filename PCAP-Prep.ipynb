{
 "cells": [
  {
   "cell_type": "code",
   "execution_count": 4,
   "metadata": {},
   "outputs": [],
   "source": [
    "# What will be the value of the i variable when the while e loop finishes its execution?\n",
    "i = 0\n",
    "while i != 0:\n",
    "    i = i-1\n",
    "else:\n",
    "    i = i+1\n",
    "\n",
    "# 1"
   ]
  },
  {
   "cell_type": "code",
   "execution_count": null,
   "metadata": {},
   "outputs": [],
   "source": [
    "# An operator able to perform bitwise shifts is coded as (Choose two.)\n",
    "\n",
    "# <<\n",
    "# >>"
   ]
  },
  {
   "cell_type": "code",
   "execution_count": 3,
   "metadata": {},
   "outputs": [],
   "source": [
    "# What will the value of the i variable be when the following loop finishes its execution?\n",
    "for i in range(10):\n",
    "    pass\n",
    "\n",
    "# 9"
   ]
  },
  {
   "cell_type": "code",
   "execution_count": 5,
   "metadata": {},
   "outputs": [
    {
     "data": {
      "text/plain": [
       "-1"
      ]
     },
     "execution_count": 5,
     "metadata": {},
     "output_type": "execute_result"
    }
   ],
   "source": [
    "# The following expression equal to:\n",
    "1+-2\n",
    "\n",
    "# -1"
   ]
  },
  {
   "cell_type": "code",
   "execution_count": null,
   "metadata": {},
   "outputs": [],
   "source": [
    "# A compiler is a program designed to (Choose two.)\n",
    "\n",
    "# check the source code in order to see of it's correct\n",
    "# translate the source code into machine code"
   ]
  },
  {
   "cell_type": "code",
   "execution_count": 6,
   "metadata": {},
   "outputs": [
    {
     "name": "stdout",
     "output_type": "stream",
     "text": [
      "ant\"bat\"cat\n"
     ]
    }
   ],
   "source": [
    "# What is the output of the following piece of code?\n",
    "a = 'ant'\n",
    "b = 'bat'\n",
    "c = 'cat'\n",
    "print(a, b, c, sep='\"')\n",
    "\n",
    "# ant\"bat\"cat"
   ]
  },
  {
   "cell_type": "code",
   "execution_count": 11,
   "metadata": {},
   "outputs": [
    {
     "name": "stdout",
     "output_type": "stream",
     "text": [
      "2\n"
     ]
    }
   ],
   "source": [
    "# What is the expected output of the following snippet?\n",
    "i = 5\n",
    "while i > 0:\n",
    "    i = i // 2      # i floor divide by 2, so i become 2\n",
    "    if i % 2 == 0:  # if i modulo 2 == 0 (check if i is even)\n",
    "        break       # it's true so break, hence else block didn't execute\n",
    "    else:\n",
    "        i += 1\n",
    "print(i)\n",
    "\n",
    "# 2"
   ]
  },
  {
   "cell_type": "code",
   "execution_count": 12,
   "metadata": {},
   "outputs": [
    {
     "name": "stdout",
     "output_type": "stream",
     "text": [
      "***\n"
     ]
    }
   ],
   "source": [
    "# How many lines does the following snippet output?\n",
    "for i in range(1, 3):\n",
    "    print('*', end='')\n",
    "else:\n",
    "    print('*')\n",
    "\n",
    "# One line of 3 *"
   ]
  },
  {
   "cell_type": "code",
   "execution_count": 14,
   "metadata": {},
   "outputs": [
    {
     "name": "stdout",
     "output_type": "stream",
     "text": [
      "34.23\n",
      "34.23\n"
     ]
    }
   ],
   "source": [
    "# Which of the following literals reflect the value given as 34.23? (Choose two.)\n",
    "print(.3423e2)  # .3423 * 10^2\n",
    "print(3423e-2)  # 3423 * 10^-2"
   ]
  },
  {
   "cell_type": "code",
   "execution_count": 15,
   "metadata": {},
   "outputs": [
    {
     "name": "stdout",
     "output_type": "stream",
     "text": [
      "3\n"
     ]
    }
   ],
   "source": [
    "# What is the expected output of the following snippet?\n",
    "a = 2\n",
    "if a > 0:\n",
    "    a += 1      # a is > 0, hence a += 1\n",
    "else:\n",
    "    a -= 1\n",
    "print(a)"
   ]
  },
  {
   "cell_type": "code",
   "execution_count": 2,
   "metadata": {},
   "outputs": [
    {
     "name": "stdout",
     "output_type": "stream",
     "text": [
      "True\n",
      "True\n"
     ]
    }
   ],
   "source": [
    "# Assuming that the following snippet has been successfully executed, which of the equations are True? (Choose two.)\n",
    "a = [1]\n",
    "b = a\n",
    "a[0] = 0\n",
    "\n",
    "print(len(a) == len(b))\n",
    "print(a[0] == b[0])"
   ]
  },
  {
   "cell_type": "code",
   "execution_count": 4,
   "metadata": {},
   "outputs": [
    {
     "name": "stdout",
     "output_type": "stream",
     "text": [
      "False\n",
      "False\n"
     ]
    }
   ],
   "source": [
    "# Assuming that the following snippet has been successfully executed, which of the equations are False? (Choose two.)\n",
    "a = [0]\n",
    "b = a [:]\n",
    "a[0] = 1\n",
    "\n",
    "print(a[0]== b[0])\n",
    "print(b[0]-1 == a[0])"
   ]
  },
  {
   "cell_type": "code",
   "execution_count": null,
   "metadata": {},
   "outputs": [],
   "source": [
    "# Which of the following statements are true? (Choose two.)\n",
    "# Python strings can be concatenated\n",
    "# Python strings can be sliced like lists"
   ]
  },
  {
   "cell_type": "code",
   "execution_count": null,
   "metadata": {},
   "outputs": [],
   "source": [
    "# Which of the following sentences are true? (Choose two.)\n",
    "# Tuples may be stored inside lists\n",
    "# Lists may be stored inside lists"
   ]
  },
  {
   "cell_type": "code",
   "execution_count": 7,
   "metadata": {},
   "outputs": [
    {
     "name": "stdout",
     "output_type": "stream",
     "text": [
      "bcd 3\n"
     ]
    }
   ],
   "source": [
    "# Assuming that String is six or more letters long, the following slice string[1:-2] is shorter than the original string by:\n",
    "my_string = 'abcdef'\n",
    "print(my_string[1:-2], len(my_string) - len(my_string[1:-2]))   # my_string[1:-2] the 1 means from 2nd char b, -2 means up to but not including 2nd-to-last char d.\n",
    "\n",
    "# 3 chars"
   ]
  },
  {
   "cell_type": "code",
   "execution_count": 8,
   "metadata": {},
   "outputs": [
    {
     "name": "stdout",
     "output_type": "stream",
     "text": [
      "2\n"
     ]
    }
   ],
   "source": [
    "# What is the expected output of the following snippet?\n",
    "my_list = [1, 2, 3, 4]\n",
    "my_list = my_list[-3:-2]        # my_list[-3:-2] the -3 means from 3rd-to-last index 2, -2 means up to but not including 2nd-to-last index 2. which is [2]\n",
    "my_list = my_list[-1]           # my_list[-1] of 2 it'll still be 2 \n",
    "print(my_list)\n"
   ]
  },
  {
   "cell_type": "code",
   "execution_count": 9,
   "metadata": {},
   "outputs": [
    {
     "ename": "TypeError",
     "evalue": "'int' object is not iterable",
     "output_type": "error",
     "traceback": [
      "\u001b[1;31m---------------------------------------------------------------------------\u001b[0m",
      "\u001b[1;31mTypeError\u001b[0m                                 Traceback (most recent call last)",
      "\u001b[1;32m~\\AppData\\Local\\Temp/ipykernel_1644/796046266.py\u001b[0m in \u001b[0;36m<module>\u001b[1;34m\u001b[0m\n\u001b[0;32m      1\u001b[0m \u001b[1;31m# What is the expected output of the following snippet?\u001b[0m\u001b[1;33m\u001b[0m\u001b[1;33m\u001b[0m\u001b[1;33m\u001b[0m\u001b[0m\n\u001b[0;32m      2\u001b[0m \u001b[0ms\u001b[0m \u001b[1;33m=\u001b[0m \u001b[1;34m'abc'\u001b[0m\u001b[1;33m\u001b[0m\u001b[1;33m\u001b[0m\u001b[0m\n\u001b[1;32m----> 3\u001b[1;33m \u001b[1;32mfor\u001b[0m \u001b[0mi\u001b[0m \u001b[1;32min\u001b[0m \u001b[0mlen\u001b[0m\u001b[1;33m(\u001b[0m\u001b[0ms\u001b[0m\u001b[1;33m)\u001b[0m\u001b[1;33m:\u001b[0m\u001b[1;33m\u001b[0m\u001b[1;33m\u001b[0m\u001b[0m\n\u001b[0m\u001b[0;32m      4\u001b[0m     \u001b[0ms\u001b[0m\u001b[1;33m[\u001b[0m\u001b[0mi\u001b[0m\u001b[1;33m]\u001b[0m \u001b[1;33m=\u001b[0m \u001b[0ms\u001b[0m\u001b[1;33m[\u001b[0m\u001b[0mi\u001b[0m\u001b[1;33m]\u001b[0m\u001b[1;33m.\u001b[0m\u001b[0mupper\u001b[0m\u001b[1;33m(\u001b[0m\u001b[1;33m)\u001b[0m\u001b[1;33m\u001b[0m\u001b[1;33m\u001b[0m\u001b[0m\n\u001b[0;32m      5\u001b[0m \u001b[0mprint\u001b[0m\u001b[1;33m(\u001b[0m\u001b[0ms\u001b[0m\u001b[1;33m)\u001b[0m\u001b[1;33m\u001b[0m\u001b[1;33m\u001b[0m\u001b[0m\n",
      "\u001b[1;31mTypeError\u001b[0m: 'int' object is not iterable"
     ]
    }
   ],
   "source": [
    "# What is the expected output of the following snippet?\n",
    "s = 'abc'\n",
    "for i in len(s):\n",
    "    s[i] = s[i].upper()     # Can't iterate an int\n",
    "print(s)\n",
    "\n",
    "# The code will cause a runtime exception"
   ]
  },
  {
   "cell_type": "code",
   "execution_count": 11,
   "metadata": {},
   "outputs": [
    {
     "name": "stdout",
     "output_type": "stream",
     "text": [
      "7\n"
     ]
    }
   ],
   "source": [
    "# How many elements will the list2 list contain after execution of the following snippet?\n",
    "list1 = [False for i in range(1, 10)]   # 9 elements of False\n",
    "list2 = list1[-1:1:-1]                  # starting from the last element (inclusive) up to the element at index 1 (exclusive), in reverse order with a step of -1.\n",
    "print(len(list2))\n",
    "# 7"
   ]
  },
  {
   "cell_type": "code",
   "execution_count": null,
   "metadata": {},
   "outputs": [],
   "source": [
    "# What would you used instead of XXX if you want to check weather a certain 'key' exists in a dictionary called dict? (Choose two.)\n",
    "if XXX:\n",
    "    print('Key exists')\n",
    "\n",
    "#  'key' in dict    \n",
    "#  'key' in dict.keys()"
   ]
  },
  {
   "cell_type": "code",
   "execution_count": null,
   "metadata": {},
   "outputs": [],
   "source": [
    "# You need data which can act as a simple telephone directory. You can obtain it with the following clauses -\n",
    "# (Choose two.) (assume that no other items have been created before)\n",
    "\n",
    "# dir = {'Mom': 5551234567, 'Dad': 5557654321}\n",
    "# dir = {'Mom': '5551234567', 'Dad': '5557654321'}"
   ]
  },
  {
   "cell_type": "code",
   "execution_count": null,
   "metadata": {},
   "outputs": [],
   "source": [
    "# Can a module run like regular code?\n",
    "\n",
    "# yes, and it can differentiate its behavior between the regular launch and import"
   ]
  },
  {
   "cell_type": "code",
   "execution_count": null,
   "metadata": {},
   "outputs": [],
   "source": [
    "# Select the valid fun() invocations:   (Choose two.)\n",
    "def fun(a, b=0):        # by default b = 0 if b aren't passed in\n",
    "    return a * b\n",
    "\n",
    "# fun(a=0)\n",
    "# fun(1)"
   ]
  },
  {
   "cell_type": "code",
   "execution_count": null,
   "metadata": {},
   "outputs": [],
   "source": [
    "# A file name like this one below says that: (Choose three.)\n",
    "# services,cpython36.pyc\n",
    "\n",
    "# the interpreter used to generate the file is version 3.6\n",
    "# it has been produced by CPython\n",
    "# the file comes from the services.py source file"
   ]
  },
  {
   "cell_type": "code",
   "execution_count": 5,
   "metadata": {},
   "outputs": [
    {
     "name": "stdout",
     "output_type": "stream",
     "text": [
      "4\n"
     ]
    }
   ],
   "source": [
    "# What is the expected behavior of the following snippet?\n",
    "def a(I, L):\n",
    "    return I[L]\n",
    "my_list = [1, 2, 3, 4]\n",
    "print (a(my_list, 3))\n",
    "# 4"
   ]
  },
  {
   "cell_type": "code",
   "execution_count": null,
   "metadata": {},
   "outputs": [],
   "source": [
    "# What can you do if you don't like a long package path like this one?\n",
    "# you can make an alias for the name using the as keyword, same as we'd do import numpy as np"
   ]
  },
  {
   "cell_type": "code",
   "execution_count": 6,
   "metadata": {},
   "outputs": [
    {
     "ename": "SyntaxError",
     "evalue": "invalid syntax (Temp/ipykernel_17052/2599928574.py, line 5)",
     "output_type": "error",
     "traceback": [
      "\u001b[1;36m  File \u001b[1;32m\"C:\\Users\\katie\\AppData\\Local\\Temp/ipykernel_17052/2599928574.py\"\u001b[1;36m, line \u001b[1;32m5\u001b[0m\n\u001b[1;33m    def s[2]\u001b[0m\n\u001b[1;37m         ^\u001b[0m\n\u001b[1;31mSyntaxError\u001b[0m\u001b[1;31m:\u001b[0m invalid syntax\n"
     ]
    }
   ],
   "source": [
    "# What is the expected output of the following code?\n",
    "str = 'abcdef'\n",
    "\n",
    "def fun(s):\n",
    "    def s[2]\n",
    "    return s\n",
    "\n",
    "print(fun(str))\n",
    "# The program will cause a runtime exception/error, as strings are immutable"
   ]
  },
  {
   "cell_type": "code",
   "execution_count": 7,
   "metadata": {},
   "outputs": [
    {
     "name": "stdout",
     "output_type": "stream",
     "text": [
      "21\n"
     ]
    }
   ],
   "source": [
    "# What is the expected output of the following code?\n",
    "def f(n):\n",
    "    if n == 1:\n",
    "        return '1'\n",
    "    return str(n) + f(n - 1)\n",
    "\n",
    "print(f(2))\n",
    "# 21 as str(2) + '1'"
   ]
  },
  {
   "cell_type": "code",
   "execution_count": 8,
   "metadata": {},
   "outputs": [
    {
     "name": "stdout",
     "output_type": "stream",
     "text": [
      "3\n"
     ]
    }
   ],
   "source": [
    "# What is the expected behavior of the following snippet?\n",
    "def x():\n",
    "    return 2\n",
    "\n",
    "x = 1 + x()\n",
    "print(x)\n",
    "# 3 as 1 + 2"
   ]
  },
  {
   "cell_type": "code",
   "execution_count": 9,
   "metadata": {},
   "outputs": [
    {
     "name": "stdout",
     "output_type": "stream",
     "text": [
      "<generator object f at 0x000002C6A2FFC120>\n"
     ]
    }
   ],
   "source": [
    "# What is the expected behavior of the following code?\n",
    "\n",
    "def f(n):\n",
    "    for i in range (1,n+1):\n",
    "        yield i\n",
    "\n",
    "print(f(2))\n",
    "# print <generator object f at (some hex digits)>"
   ]
  },
  {
   "cell_type": "code",
   "execution_count": null,
   "metadata": {},
   "outputs": [],
   "source": [
    "# If you need a function that does nothing, what would you use instead of XXX? (Choose two.)\n",
    "def idler():\n",
    "    XXX\n",
    "\n",
    "# pass\n",
    "# return"
   ]
  },
  {
   "cell_type": "code",
   "execution_count": null,
   "metadata": {},
   "outputs": [],
   "source": [
    "# Is it possible to safely check if a class/object has a certain attribute?\n",
    "if hasattr(a, 'property'):\n",
    "    a.property\n",
    "# yes, by using the hassattr() function"
   ]
  },
  {
   "cell_type": "code",
   "execution_count": null,
   "metadata": {},
   "outputs": [],
   "source": [
    "# The first parameter of each method:\n",
    "\n",
    "# holds a reference to the currently processed object, i.e. self"
   ]
  },
  {
   "cell_type": "code",
   "execution_count": null,
   "metadata": {},
   "outputs": [],
   "source": [
    "# The simplest possible class definition in Python can be expressed as:\n",
    "\n",
    "# class X: pass"
   ]
  },
  {
   "cell_type": "code",
   "execution_count": null,
   "metadata": {},
   "outputs": [],
   "source": [
    "# If you want to access an exception object's components and store them in an object called e, you have to use the following form of exception statement:\n",
    "\n",
    "# except Exception as e:"
   ]
  },
  {
   "cell_type": "code",
   "execution_count": null,
   "metadata": {},
   "outputs": [],
   "source": [
    "# A variable stored separately in every object is called:\n",
    "\n",
    "# an instance variable"
   ]
  },
  {
   "cell_type": "code",
   "execution_count": null,
   "metadata": {},
   "outputs": [],
   "source": [
    "# There is a stream named s open for writing. What option will you select to write a line to the stream?\n",
    "\n",
    "# s.write (\"Hello\\n\")"
   ]
  },
  {
   "cell_type": "code",
   "execution_count": null,
   "metadata": {},
   "outputs": [],
   "source": [
    "# You are going to read just one character from a stream called s. Which statement would you use?\n",
    "\n",
    "# ch = read(s, 1)"
   ]
  },
  {
   "cell_type": "code",
   "execution_count": null,
   "metadata": {},
   "outputs": [],
   "source": [
    "# What can you deduce from the following statement? (Choose two.)\n",
    "str = open('file.txt', 'rt')\n",
    "\n",
    "# a newline character translation will be performed during the reads\n",
    "# the opened file cannot be written with the use of the str variable"
   ]
  },
  {
   "cell_type": "code",
   "execution_count": null,
   "metadata": {},
   "outputs": [],
   "source": [
    "# The following class hierarchy is given. What is the expected out of the code?\n"
   ]
  },
  {
   "cell_type": "code",
   "execution_count": null,
   "metadata": {},
   "outputs": [],
   "source": [
    "# Python's built in function named open () tries to open a file and returns:\n",
    "\n",
    "# a stream object"
   ]
  }
 ],
 "metadata": {
  "kernelspec": {
   "display_name": "Python 3",
   "language": "python",
   "name": "python3"
  },
  "language_info": {
   "codemirror_mode": {
    "name": "ipython",
    "version": 3
   },
   "file_extension": ".py",
   "mimetype": "text/x-python",
   "name": "python",
   "nbconvert_exporter": "python",
   "pygments_lexer": "ipython3",
   "version": "3.8.10"
  }
 },
 "nbformat": 4,
 "nbformat_minor": 2
}
