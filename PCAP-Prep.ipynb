{
 "cells": [
  {
   "cell_type": "code",
   "execution_count": 4,
   "metadata": {},
   "outputs": [],
   "source": [
    "# What will be the value of the i variable when the while e loop finishes its execution?\n",
    "i = 0\n",
    "while i != 0:\n",
    "    i = i-1\n",
    "else:\n",
    "    i = i+1\n",
    "\n",
    "# 1"
   ]
  },
  {
   "cell_type": "code",
   "execution_count": null,
   "metadata": {},
   "outputs": [],
   "source": [
    "# An operator able to perform bitwise shifts is coded as (Choose two.)\n",
    "\n",
    "# <<\n",
    "# >>"
   ]
  },
  {
   "cell_type": "code",
   "execution_count": 3,
   "metadata": {},
   "outputs": [],
   "source": [
    "# What will the value of the i variable be when the following loop finishes its execution?\n",
    "for i in range(10):\n",
    "    pass\n",
    "\n",
    "# 9"
   ]
  },
  {
   "cell_type": "code",
   "execution_count": 5,
   "metadata": {},
   "outputs": [
    {
     "data": {
      "text/plain": [
       "-1"
      ]
     },
     "execution_count": 5,
     "metadata": {},
     "output_type": "execute_result"
    }
   ],
   "source": [
    "# The following expression equal to:\n",
    "1+-2\n",
    "\n",
    "# -1"
   ]
  },
  {
   "cell_type": "code",
   "execution_count": null,
   "metadata": {},
   "outputs": [],
   "source": [
    "# A compiler is a program designed to (Choose two.)\n",
    "\n",
    "# check the source code in order to see of it's correct\n",
    "# translate the source code into machine code"
   ]
  },
  {
   "cell_type": "code",
   "execution_count": 6,
   "metadata": {},
   "outputs": [
    {
     "name": "stdout",
     "output_type": "stream",
     "text": [
      "ant\"bat\"cat\n"
     ]
    }
   ],
   "source": [
    "# What is the output of the following piece of code?\n",
    "a = 'ant'\n",
    "b = 'bat'\n",
    "c = 'cat'\n",
    "print(a, b, c, sep='\"')\n",
    "\n",
    "# ant\"bat\"cat"
   ]
  },
  {
   "cell_type": "code",
   "execution_count": 11,
   "metadata": {},
   "outputs": [
    {
     "name": "stdout",
     "output_type": "stream",
     "text": [
      "2\n"
     ]
    }
   ],
   "source": [
    "# What is the expected output of the following snippet?\n",
    "i = 5\n",
    "while i > 0:\n",
    "    i = i // 2      # i floor divide by 2, so i become 2\n",
    "    if i % 2 == 0:  # if i modulo 2 == 0 (check if i is even)\n",
    "        break       # it's true so break, hence else block didn't execute\n",
    "    else:\n",
    "        i += 1\n",
    "print(i)\n",
    "\n",
    "# 2"
   ]
  },
  {
   "cell_type": "code",
   "execution_count": 12,
   "metadata": {},
   "outputs": [
    {
     "name": "stdout",
     "output_type": "stream",
     "text": [
      "***\n"
     ]
    }
   ],
   "source": [
    "# How many lines does the following snippet output?\n",
    "for i in range(1, 3):\n",
    "    print('*', end='')\n",
    "else:\n",
    "    print('*')\n",
    "\n",
    "# One line of 3 *"
   ]
  },
  {
   "cell_type": "code",
   "execution_count": 14,
   "metadata": {},
   "outputs": [
    {
     "name": "stdout",
     "output_type": "stream",
     "text": [
      "34.23\n",
      "34.23\n"
     ]
    }
   ],
   "source": [
    "# Which of the following literals reflect the value given as 34.23? (Choose two.)\n",
    "print(.3423e2)  # .3423 * 10^2\n",
    "print(3423e-2)  # 3423 * 10^-2"
   ]
  },
  {
   "cell_type": "code",
   "execution_count": 15,
   "metadata": {},
   "outputs": [
    {
     "name": "stdout",
     "output_type": "stream",
     "text": [
      "3\n"
     ]
    }
   ],
   "source": [
    "# What is the expected output of the following snippet?\n",
    "a = 2\n",
    "if a > 0:\n",
    "    a += 1      # a is > 0, hence a += 1\n",
    "else:\n",
    "    a -= 1\n",
    "print(a)"
   ]
  },
  {
   "cell_type": "code",
   "execution_count": 2,
   "metadata": {},
   "outputs": [
    {
     "name": "stdout",
     "output_type": "stream",
     "text": [
      "True\n",
      "True\n"
     ]
    }
   ],
   "source": [
    "# Assuming that the following snippet has been successfully executed, which of the equations are True? (Choose two.)\n",
    "a = [1]\n",
    "b = a\n",
    "a[0] = 0\n",
    "\n",
    "print(len(a) == len(b))\n",
    "print(a[0] == b[0])"
   ]
  },
  {
   "cell_type": "code",
   "execution_count": 4,
   "metadata": {},
   "outputs": [
    {
     "name": "stdout",
     "output_type": "stream",
     "text": [
      "False\n",
      "False\n"
     ]
    }
   ],
   "source": [
    "# Assuming that the following snippet has been successfully executed, which of the equations are False? (Choose two.)\n",
    "a = [0]\n",
    "b = a [:]\n",
    "a[0] = 1\n",
    "\n",
    "print(a[0]== b[0])\n",
    "print(b[0]-1 == a[0])"
   ]
  },
  {
   "cell_type": "code",
   "execution_count": null,
   "metadata": {},
   "outputs": [],
   "source": [
    "# Which of the following statements are true? (Choose two.)\n",
    "# Python strings can be concatenated\n",
    "# Python strings can be sliced like lists"
   ]
  },
  {
   "cell_type": "code",
   "execution_count": null,
   "metadata": {},
   "outputs": [],
   "source": [
    "# Which of the following sentences are true? (Choose two.)\n",
    "# Tuples may be stored inside lists\n",
    "# Lists may be stored inside lists"
   ]
  },
  {
   "cell_type": "code",
   "execution_count": 7,
   "metadata": {},
   "outputs": [
    {
     "name": "stdout",
     "output_type": "stream",
     "text": [
      "bcd 3\n"
     ]
    }
   ],
   "source": [
    "# Assuming that String is six or more letters long, the following slice string[1:-2] is shorter than the original string by:\n",
    "my_string = 'abcdef'\n",
    "print(my_string[1:-2], len(my_string) - len(my_string[1:-2]))   # my_string[1:-2] the 1 means from 2nd char b, -2 means up to but not including 2nd-to-last char d.\n",
    "\n",
    "# 3 chars"
   ]
  },
  {
   "cell_type": "code",
   "execution_count": 8,
   "metadata": {},
   "outputs": [
    {
     "name": "stdout",
     "output_type": "stream",
     "text": [
      "2\n"
     ]
    }
   ],
   "source": [
    "# What is the expected output of the following snippet?\n",
    "my_list = [1, 2, 3, 4]\n",
    "my_list = my_list[-3:-2]        # my_list[-3:-2] the -3 means from 3rd-to-last index 2, -2 means up to but not including 2nd-to-last index 2. which is [2]\n",
    "my_list = my_list[-1]           # my_list[-1] of 2 it'll still be 2 \n",
    "print(my_list)\n"
   ]
  },
  {
   "cell_type": "code",
   "execution_count": 9,
   "metadata": {},
   "outputs": [
    {
     "ename": "TypeError",
     "evalue": "'int' object is not iterable",
     "output_type": "error",
     "traceback": [
      "\u001b[1;31m---------------------------------------------------------------------------\u001b[0m",
      "\u001b[1;31mTypeError\u001b[0m                                 Traceback (most recent call last)",
      "\u001b[1;32m~\\AppData\\Local\\Temp/ipykernel_1644/796046266.py\u001b[0m in \u001b[0;36m<module>\u001b[1;34m\u001b[0m\n\u001b[0;32m      1\u001b[0m \u001b[1;31m# What is the expected output of the following snippet?\u001b[0m\u001b[1;33m\u001b[0m\u001b[1;33m\u001b[0m\u001b[1;33m\u001b[0m\u001b[0m\n\u001b[0;32m      2\u001b[0m \u001b[0ms\u001b[0m \u001b[1;33m=\u001b[0m \u001b[1;34m'abc'\u001b[0m\u001b[1;33m\u001b[0m\u001b[1;33m\u001b[0m\u001b[0m\n\u001b[1;32m----> 3\u001b[1;33m \u001b[1;32mfor\u001b[0m \u001b[0mi\u001b[0m \u001b[1;32min\u001b[0m \u001b[0mlen\u001b[0m\u001b[1;33m(\u001b[0m\u001b[0ms\u001b[0m\u001b[1;33m)\u001b[0m\u001b[1;33m:\u001b[0m\u001b[1;33m\u001b[0m\u001b[1;33m\u001b[0m\u001b[0m\n\u001b[0m\u001b[0;32m      4\u001b[0m     \u001b[0ms\u001b[0m\u001b[1;33m[\u001b[0m\u001b[0mi\u001b[0m\u001b[1;33m]\u001b[0m \u001b[1;33m=\u001b[0m \u001b[0ms\u001b[0m\u001b[1;33m[\u001b[0m\u001b[0mi\u001b[0m\u001b[1;33m]\u001b[0m\u001b[1;33m.\u001b[0m\u001b[0mupper\u001b[0m\u001b[1;33m(\u001b[0m\u001b[1;33m)\u001b[0m\u001b[1;33m\u001b[0m\u001b[1;33m\u001b[0m\u001b[0m\n\u001b[0;32m      5\u001b[0m \u001b[0mprint\u001b[0m\u001b[1;33m(\u001b[0m\u001b[0ms\u001b[0m\u001b[1;33m)\u001b[0m\u001b[1;33m\u001b[0m\u001b[1;33m\u001b[0m\u001b[0m\n",
      "\u001b[1;31mTypeError\u001b[0m: 'int' object is not iterable"
     ]
    }
   ],
   "source": [
    "# What is the expected output of the following snippet?\n",
    "s = 'abc'\n",
    "for i in len(s):\n",
    "    s[i] = s[i].upper()     # Can't iterate an int\n",
    "print(s)\n",
    "\n",
    "# The code will cause a runtime exception"
   ]
  },
  {
   "cell_type": "code",
   "execution_count": 11,
   "metadata": {},
   "outputs": [
    {
     "name": "stdout",
     "output_type": "stream",
     "text": [
      "7\n"
     ]
    }
   ],
   "source": [
    "# How many elements will the list2 list contain after execution of the following snippet?\n",
    "list1 = [False for i in range(1, 10)]   # 9 elements of False\n",
    "list2 = list1[-1:1:-1]                  # starting from the last element (inclusive) up to the element at index 1 (exclusive), in reverse order with a step of -1.\n",
    "print(len(list2))\n",
    "# 7"
   ]
  },
  {
   "cell_type": "code",
   "execution_count": null,
   "metadata": {},
   "outputs": [],
   "source": [
    "# What would you used instead of XXX if you want to check weather a certain 'key' exists in a dictionary called dict? (Choose two.)\n",
    "if XXX:\n",
    "    print('Key exists')\n",
    "\n",
    "#  'key' in dict    \n",
    "#  'key' in dict.keys()"
   ]
  },
  {
   "cell_type": "code",
   "execution_count": null,
   "metadata": {},
   "outputs": [],
   "source": [
    "# You need data which can act as a simple telephone directory. You can obtain it with the following clauses -\n",
    "# (Choose two.) (assume that no other items have been created before)\n",
    "\n",
    "# dir = {'Mom': 5551234567, 'Dad': 5557654321}\n",
    "# dir = {'Mom': '5551234567', 'Dad': '5557654321'}"
   ]
  },
  {
   "cell_type": "code",
   "execution_count": null,
   "metadata": {},
   "outputs": [],
   "source": [
    "# Can a module run like regular code?\n",
    "\n",
    "# yes, and it can differentiate its behavior between the regular launch and import"
   ]
  },
  {
   "cell_type": "code",
   "execution_count": null,
   "metadata": {},
   "outputs": [],
   "source": [
    "# Select the valid fun() invocations:   (Choose two.)\n",
    "def fun(a, b=0):        # by default b = 0 if b aren't passed in\n",
    "    return a * b\n",
    "\n",
    "# fun(a=0)\n",
    "# fun(1)"
   ]
  },
  {
   "cell_type": "code",
   "execution_count": null,
   "metadata": {},
   "outputs": [],
   "source": [
    "# A file name like this one below says that: (Choose three.)\n",
    "# services,cpython36.pyc\n",
    "\n",
    "# the interpreter used to generate the file is version 3.6\n",
    "# it has been produced by CPython\n",
    "# the file comes from the services.py source file"
   ]
  },
  {
   "cell_type": "code",
   "execution_count": 5,
   "metadata": {},
   "outputs": [
    {
     "name": "stdout",
     "output_type": "stream",
     "text": [
      "4\n"
     ]
    }
   ],
   "source": [
    "# What is the expected behavior of the following snippet?\n",
    "def a(I, L):\n",
    "    return I[L]\n",
    "my_list = [1, 2, 3, 4]\n",
    "print (a(my_list, 3))\n",
    "# 4"
   ]
  },
  {
   "cell_type": "code",
   "execution_count": null,
   "metadata": {},
   "outputs": [],
   "source": [
    "# What can you do if you don't like a long package path like this one?\n",
    "# you can make an alias for the name using the as keyword, same as we'd do import numpy as np"
   ]
  },
  {
   "cell_type": "code",
   "execution_count": 6,
   "metadata": {},
   "outputs": [
    {
     "ename": "SyntaxError",
     "evalue": "invalid syntax (Temp/ipykernel_17052/2599928574.py, line 5)",
     "output_type": "error",
     "traceback": [
      "\u001b[1;36m  File \u001b[1;32m\"C:\\Users\\katie\\AppData\\Local\\Temp/ipykernel_17052/2599928574.py\"\u001b[1;36m, line \u001b[1;32m5\u001b[0m\n\u001b[1;33m    def s[2]\u001b[0m\n\u001b[1;37m         ^\u001b[0m\n\u001b[1;31mSyntaxError\u001b[0m\u001b[1;31m:\u001b[0m invalid syntax\n"
     ]
    }
   ],
   "source": [
    "# What is the expected output of the following code?\n",
    "str = 'abcdef'\n",
    "\n",
    "def fun(s):\n",
    "    def s[2]\n",
    "    return s\n",
    "\n",
    "print(fun(str))\n",
    "# The program will cause a runtime exception/error, as strings are immutable"
   ]
  },
  {
   "cell_type": "code",
   "execution_count": 7,
   "metadata": {},
   "outputs": [
    {
     "name": "stdout",
     "output_type": "stream",
     "text": [
      "21\n"
     ]
    }
   ],
   "source": [
    "# What is the expected output of the following code?\n",
    "def f(n):\n",
    "    if n == 1:\n",
    "        return '1'\n",
    "    return str(n) + f(n - 1)\n",
    "\n",
    "print(f(2))\n",
    "# 21 as str(2) + '1'"
   ]
  },
  {
   "cell_type": "code",
   "execution_count": 8,
   "metadata": {},
   "outputs": [
    {
     "name": "stdout",
     "output_type": "stream",
     "text": [
      "3\n"
     ]
    }
   ],
   "source": [
    "# What is the expected behavior of the following snippet?\n",
    "def x():\n",
    "    return 2\n",
    "\n",
    "x = 1 + x()\n",
    "print(x)\n",
    "# 3 as 1 + 2"
   ]
  },
  {
   "cell_type": "code",
   "execution_count": 9,
   "metadata": {},
   "outputs": [
    {
     "name": "stdout",
     "output_type": "stream",
     "text": [
      "<generator object f at 0x000002C6A2FFC120>\n"
     ]
    }
   ],
   "source": [
    "# What is the expected behavior of the following code?\n",
    "\n",
    "def f(n):\n",
    "    for i in range (1,n+1):\n",
    "        yield i\n",
    "\n",
    "print(f(2))\n",
    "# print <generator object f at (some hex digits)>"
   ]
  },
  {
   "cell_type": "code",
   "execution_count": null,
   "metadata": {},
   "outputs": [],
   "source": [
    "# If you need a function that does nothing, what would you use instead of XXX? (Choose two.)\n",
    "def idler():\n",
    "    XXX\n",
    "\n",
    "# pass\n",
    "# return"
   ]
  },
  {
   "cell_type": "code",
   "execution_count": null,
   "metadata": {},
   "outputs": [],
   "source": [
    "# Is it possible to safely check if a class/object has a certain attribute?\n",
    "if hasattr(a, 'property'):\n",
    "    a.property\n",
    "# yes, by using the hassattr() function"
   ]
  },
  {
   "cell_type": "code",
   "execution_count": null,
   "metadata": {},
   "outputs": [],
   "source": [
    "# The first parameter of each method:\n",
    "\n",
    "# holds a reference to the currently processed object, i.e. self"
   ]
  },
  {
   "cell_type": "code",
   "execution_count": null,
   "metadata": {},
   "outputs": [],
   "source": [
    "# The simplest possible class definition in Python can be expressed as:\n",
    "\n",
    "# class X: pass"
   ]
  },
  {
   "cell_type": "code",
   "execution_count": null,
   "metadata": {},
   "outputs": [],
   "source": [
    "# If you want to access an exception object's components and store them in an object called e, you have to use the following form of exception statement:\n",
    "\n",
    "# except Exception as e:"
   ]
  },
  {
   "cell_type": "code",
   "execution_count": null,
   "metadata": {},
   "outputs": [],
   "source": [
    "# A variable stored separately in every object is called:\n",
    "\n",
    "# an instance variable"
   ]
  },
  {
   "cell_type": "code",
   "execution_count": null,
   "metadata": {},
   "outputs": [],
   "source": [
    "# There is a stream named s open for writing. What option will you select to write a line to the stream?\n",
    "\n",
    "# s.write (\"Hello\\n\")"
   ]
  },
  {
   "cell_type": "code",
   "execution_count": null,
   "metadata": {},
   "outputs": [],
   "source": [
    "# You are going to read just one character from a stream called s. Which statement would you use?\n",
    "\n",
    "# ch = read(s, 1)"
   ]
  },
  {
   "cell_type": "code",
   "execution_count": null,
   "metadata": {},
   "outputs": [],
   "source": [
    "# What can you deduce from the following statement? (Choose two.)\n",
    "str = open('file.txt', 'rt')\n",
    "\n",
    "# a newline character translation will be performed during the reads\n",
    "# the opened file cannot be written with the use of the str variable"
   ]
  },
  {
   "cell_type": "code",
   "execution_count": 1,
   "metadata": {},
   "outputs": [
    {
     "name": "stdout",
     "output_type": "stream",
     "text": [
      "BC"
     ]
    }
   ],
   "source": [
    "# The following class hierarchy is given. What is the expected out of the code?\n",
    "class A:\n",
    "    def a(self):\n",
    "        print('A', end = '')\n",
    "    def b(self):\n",
    "        self.a()\n",
    "\n",
    "class B(A):\n",
    "    def a(self):\n",
    "        print('B', end = '')\n",
    "    def do(self):\n",
    "        self.b()\n",
    "\n",
    "class C(A):\n",
    "    def a(self):\n",
    "        print('C', end = '')\n",
    "    def do(self):\n",
    "        self.b()\n",
    "\n",
    "B().do()\n",
    "C().do()\n",
    "\n",
    "# BC\n",
    "'''\n",
    "B().do() creates an instance of class B, calls the do method, which in turn calls self.b(). Since B inherits from A, it prints 'B' (from self.a() in class A) and then 'C' (from self.a() in class C).\n",
    "C().do() creates an instance of class C, calls the do method, which in turn calls self.b(). Similarly, since C inherits from A, it prints 'C' (from self.a() in class C) and then 'C' again.\n",
    "'''"
   ]
  },
  {
   "cell_type": "code",
   "execution_count": null,
   "metadata": {},
   "outputs": [],
   "source": [
    "# Python's built in function named open () tries to open a file and returns:\n",
    "\n",
    "# a stream object"
   ]
  },
  {
   "cell_type": "code",
   "execution_count": null,
   "metadata": {},
   "outputs": [],
   "source": [
    "# Which of the following words can be used as a variable name? (Choose two.)\n",
    "\n",
    "# true\n",
    "# For"
   ]
  },
  {
   "cell_type": "code",
   "execution_count": null,
   "metadata": {},
   "outputs": [],
   "source": [
    "# Python strings can be `glued` together using the operator:\n",
    "\n",
    "# +"
   ]
  },
  {
   "cell_type": "code",
   "execution_count": null,
   "metadata": {},
   "outputs": [],
   "source": [
    "# A keyword (Choose two.)\n",
    "\n",
    "#  is defined by Python's lexis\n",
    "# is also known as a reserved word"
   ]
  },
  {
   "cell_type": "code",
   "execution_count": 1,
   "metadata": {},
   "outputs": [
    {
     "ename": "TypeError",
     "evalue": "unsupported operand type(s) for -: 'str' and 'str'",
     "output_type": "error",
     "traceback": [
      "\u001b[1;31m---------------------------------------------------------------------------\u001b[0m",
      "\u001b[1;31mTypeError\u001b[0m                                 Traceback (most recent call last)",
      "\u001b[1;32m~\\AppData\\Local\\Temp/ipykernel_25556/1336506218.py\u001b[0m in \u001b[0;36m<module>\u001b[1;34m\u001b[0m\n\u001b[0;32m      1\u001b[0m \u001b[1;31m# How many stars (*) does the snippet print?\u001b[0m\u001b[1;33m\u001b[0m\u001b[1;33m\u001b[0m\u001b[1;33m\u001b[0m\u001b[0m\n\u001b[0;32m      2\u001b[0m \u001b[0ms\u001b[0m \u001b[1;33m=\u001b[0m \u001b[1;34m'*****'\u001b[0m\u001b[1;33m\u001b[0m\u001b[1;33m\u001b[0m\u001b[0m\n\u001b[1;32m----> 3\u001b[1;33m \u001b[0ms\u001b[0m \u001b[1;33m=\u001b[0m \u001b[0ms\u001b[0m \u001b[1;33m-\u001b[0m \u001b[0ms\u001b[0m\u001b[1;33m[\u001b[0m\u001b[1;36m2\u001b[0m\u001b[1;33m]\u001b[0m\u001b[1;33m\u001b[0m\u001b[1;33m\u001b[0m\u001b[0m\n\u001b[0m\u001b[0;32m      4\u001b[0m \u001b[0mprint\u001b[0m\u001b[1;33m(\u001b[0m\u001b[0ms\u001b[0m\u001b[1;33m)\u001b[0m\u001b[1;33m\u001b[0m\u001b[1;33m\u001b[0m\u001b[0m\n\u001b[0;32m      5\u001b[0m \u001b[1;33m\u001b[0m\u001b[0m\n",
      "\u001b[1;31mTypeError\u001b[0m: unsupported operand type(s) for -: 'str' and 'str'"
     ]
    }
   ],
   "source": [
    "# How many stars (*) does the snippet print?\n",
    "s = '*****'\n",
    "s = s - s[2]\n",
    "print(s)\n",
    "\n",
    "# the code is erroneous "
   ]
  },
  {
   "cell_type": "code",
   "execution_count": 2,
   "metadata": {},
   "outputs": [
    {
     "name": "stdout",
     "output_type": "stream",
     "text": [
      "1 2 3\n",
      "1 2 3\n"
     ]
    }
   ],
   "source": [
    "# Which line can be used instead of the comment to cause the snippet to produce the following expected output? (Choose two.) \n",
    "# Expected output:  1 2 3\n",
    "c, b, a = 1, 3, 2\n",
    "c, b, a = b, a, c # answer\n",
    "print(a, b, c)\n",
    "\n",
    "c, b, a = 1, 3, 2\n",
    "a, b, c = c, a, b # answer\n",
    "print(a, b, c)\n"
   ]
  },
  {
   "cell_type": "code",
   "execution_count": null,
   "metadata": {},
   "outputs": [],
   "source": [
    "# Assuming that the V variable holds an integer value to 2, which of the following operators should be used instead of OPER to make the expression equal to 1?\n",
    "# V OPER 1 \n",
    "\n",
    "# >>"
   ]
  },
  {
   "cell_type": "code",
   "execution_count": null,
   "metadata": {},
   "outputs": [],
   "source": [
    "# How many stars (*) does the following snippet print?\n",
    "i = 3\n",
    "while i > 0:\n",
    "    i -= 1\n",
    "    print('*')\n",
    "else:\n",
    "    print('*')\n",
    "\n",
    "# Four as 3 from while loop, one more from else block"
   ]
  },
  {
   "cell_type": "code",
   "execution_count": null,
   "metadata": {},
   "outputs": [],
   "source": [
    "# UNICODE is:\n",
    "\n",
    "# a standard for encoding and handling texts"
   ]
  },
  {
   "cell_type": "code",
   "execution_count": 3,
   "metadata": {},
   "outputs": [
    {
     "name": "stdout",
     "output_type": "stream",
     "text": [
      "*-**-**-**-*\n"
     ]
    }
   ],
   "source": [
    "# What is the expected output of the following snippet?\n",
    "s = '*-*'\n",
    "s = 2 * s + s * 2\n",
    "print(s)\n",
    "\n",
    "# *-**-**-**-* as s * 4 = 4 times"
   ]
  },
  {
   "cell_type": "code",
   "execution_count": null,
   "metadata": {},
   "outputs": [],
   "source": [
    "# Which of the listed actions can be applied to the following tuple? (Choose two.)\n",
    "tup =()\n",
    "\n",
    "# tup [:]\n",
    "# del tup"
   ]
  },
  {
   "cell_type": "code",
   "execution_count": null,
   "metadata": {},
   "outputs": [],
   "source": [
    "# Executing the following snippet will cause the dict:\n",
    "dct = {'pi': 3.14}\n",
    "dct['pi'] = 3.1415\n",
    "\n",
    "# to hold one key named 'pi' linked to 3.1415"
   ]
  },
  {
   "cell_type": "code",
   "execution_count": 3,
   "metadata": {},
   "outputs": [
    {
     "name": "stdout",
     "output_type": "stream",
     "text": [
      "[\"Don't think twice\", ' do it!']\n"
     ]
    }
   ],
   "source": [
    "# How many elements will the list1 list contain after execution of the following snippet?\n",
    "List1 = \"Don't think twice, do it!\".split(',')\n",
    "print(List1)\n",
    "\n",
    "# two"
   ]
  },
  {
   "cell_type": "code",
   "execution_count": null,
   "metadata": {},
   "outputs": [],
   "source": [
    "# Which of the equations are True? (Choose two.)\n",
    "\n",
    "# chr(ord(x)) == x\n",
    "# ord(chr(x)) == x"
   ]
  },
  {
   "cell_type": "code",
   "execution_count": null,
   "metadata": {},
   "outputs": [],
   "source": [
    "# If you want to transform a string into a list of words, what invocation would you use? (Choose two.)\n",
    "# Expected Output: The, Catcher, in, the, Rye,\n",
    "\n",
    "# s.split()\n",
    "# s.split(' ')"
   ]
  },
  {
   "cell_type": "code",
   "execution_count": 4,
   "metadata": {},
   "outputs": [
    {
     "ename": "NameError",
     "evalue": "name 'list1' is not defined",
     "output_type": "error",
     "traceback": [
      "\u001b[1;31m---------------------------------------------------------------------------\u001b[0m",
      "\u001b[1;31mNameError\u001b[0m                                 Traceback (most recent call last)",
      "\u001b[1;32m~\\AppData\\Local\\Temp/ipykernel_27964/2234979158.py\u001b[0m in \u001b[0;36m<module>\u001b[1;34m\u001b[0m\n\u001b[0;32m      2\u001b[0m \u001b[0mlist1\u001b[0m \u001b[1;33m=\u001b[0m \u001b[1;33m[\u001b[0m\u001b[1;36m0\u001b[0m\u001b[1;33m,\u001b[0m \u001b[1;36m1\u001b[0m\u001b[1;33m,\u001b[0m \u001b[1;36m2\u001b[0m\u001b[1;33m,\u001b[0m \u001b[1;36m3\u001b[0m\u001b[1;33m]\u001b[0m\u001b[1;33m\u001b[0m\u001b[1;33m\u001b[0m\u001b[0m\n\u001b[0;32m      3\u001b[0m \u001b[1;32mdel\u001b[0m \u001b[0mlist1\u001b[0m\u001b[1;33m\u001b[0m\u001b[1;33m\u001b[0m\u001b[0m\n\u001b[1;32m----> 4\u001b[1;33m \u001b[0mprint\u001b[0m\u001b[1;33m(\u001b[0m\u001b[0mlist1\u001b[0m\u001b[1;33m)\u001b[0m\u001b[1;33m\u001b[0m\u001b[1;33m\u001b[0m\u001b[0m\n\u001b[0m\u001b[0;32m      5\u001b[0m \u001b[1;33m\u001b[0m\u001b[0m\n\u001b[0;32m      6\u001b[0m \u001b[0mlist1\u001b[0m \u001b[1;33m=\u001b[0m \u001b[1;33m[\u001b[0m\u001b[1;36m0\u001b[0m\u001b[1;33m,\u001b[0m \u001b[1;36m1\u001b[0m\u001b[1;33m,\u001b[0m \u001b[1;36m2\u001b[0m\u001b[1;33m,\u001b[0m \u001b[1;36m3\u001b[0m\u001b[1;33m]\u001b[0m\u001b[1;33m\u001b[0m\u001b[1;33m\u001b[0m\u001b[0m\n",
      "\u001b[1;31mNameError\u001b[0m: name 'list1' is not defined"
     ]
    }
   ],
   "source": [
    "# list1 is a four-element list is there any difference between these two statements?\n",
    "list1 = [0, 1, 2, 3]\n",
    "del list1\n",
    "print(list1)\n",
    "\n",
    "list1 = [0, 1, 2, 3]\n",
    "del list1[:]\n",
    "print(list1)\n"
   ]
  },
  {
   "cell_type": "code",
   "execution_count": null,
   "metadata": {},
   "outputs": [],
   "source": [
    "# What should you put instead of XXX to print out the module name?\n",
    "\n",
    "if __name__ != XXX:\n",
    "    print(__name__)\n",
    "\n",
    "# __main__"
   ]
  },
  {
   "cell_type": "code",
   "execution_count": null,
   "metadata": {},
   "outputs": [],
   "source": [
    "# Files with the suffix .pyc contain:\n",
    "\n",
    "# semi-compiled Python code"
   ]
  },
  {
   "cell_type": "code",
   "execution_count": null,
   "metadata": {},
   "outputs": [],
   "source": [
    "# Package source directories/folders can be:\n",
    "\n",
    "# packed as a ZIP file and distributed as one file"
   ]
  },
  {
   "cell_type": "code",
   "execution_count": null,
   "metadata": {},
   "outputs": [],
   "source": [
    "# What can you deduce from the line below? (Choose two.)\n",
    "x == a.b.c.f()\n",
    "\n",
    "# import a.b.c should be placed before that line\n",
    "# f() is located in subpackage c of subpackage b of package a"
   ]
  },
  {
   "cell_type": "code",
   "execution_count": null,
   "metadata": {},
   "outputs": [],
   "source": [
    "# A two-parameter lambda function raising its first parameter to the power of the second parameter should be declared as:\n",
    "\n",
    "# lambda x, y: x ** y"
   ]
  },
  {
   "cell_type": "code",
   "execution_count": 1,
   "metadata": {},
   "outputs": [
    {
     "name": "stdout",
     "output_type": "stream",
     "text": [
      "3\n"
     ]
    }
   ],
   "source": [
    "# What is the expected output of the following code?\n",
    "\n",
    "def f(n):\n",
    "    if n == 1:\n",
    "        return 1\n",
    "    return n + f(n - 1)\n",
    "\n",
    "print(f(2))\n",
    "\n",
    "# 3"
   ]
  },
  {
   "cell_type": "code",
   "execution_count": null,
   "metadata": {},
   "outputs": [],
   "source": [
    "# A method for passing the arguments used by the following snippet is called:\n",
    "def fun(a, b):\n",
    "    return a + b\n",
    "res = fun(1, 2)\n",
    "\n",
    "# positional, fun(a=1, b=2) will be keyword"
   ]
  },
  {
   "cell_type": "code",
   "execution_count": 2,
   "metadata": {},
   "outputs": [
    {
     "name": "stdout",
     "output_type": "stream",
     "text": [
      "1 2 "
     ]
    }
   ],
   "source": [
    "# What is the expected behavior of the following code?\n",
    "def f(n):\n",
    "    for i in range(1, n + 1):\n",
    "        yield i\n",
    "\n",
    "for i in f(2):\n",
    "    print(i, end=' ')\n",
    "\n",
    "# print 1 2"
   ]
  },
  {
   "cell_type": "code",
   "execution_count": 6,
   "metadata": {},
   "outputs": [
    {
     "name": "stdout",
     "output_type": "stream",
     "text": [
      "3\n"
     ]
    }
   ],
   "source": [
    "# What is the expected output of the following code?\n",
    "lst = [x for x in range(5)]                         # [0, 1, 2, 3, 4]\n",
    "lst = list(filter(lambda x: x % 2 == 0, lst))       # [0, 2, 4]\n",
    "print(len(lst))\n",
    "\n",
    "# 3"
   ]
  },
  {
   "cell_type": "code",
   "execution_count": 7,
   "metadata": {},
   "outputs": [
    {
     "ename": "TypeError",
     "evalue": "unsupported operand type(s) for +: 'int' and 'NoneType'",
     "output_type": "error",
     "traceback": [
      "\u001b[1;31m---------------------------------------------------------------------------\u001b[0m",
      "\u001b[1;31mTypeError\u001b[0m                                 Traceback (most recent call last)",
      "\u001b[1;32m~\\AppData\\Local\\Temp/ipykernel_28400/431271225.py\u001b[0m in \u001b[0;36m<module>\u001b[1;34m\u001b[0m\n\u001b[0;32m      4\u001b[0m         \u001b[1;32mreturn\u001b[0m \u001b[1;36m0\u001b[0m\u001b[1;33m\u001b[0m\u001b[1;33m\u001b[0m\u001b[0m\n\u001b[0;32m      5\u001b[0m \u001b[1;33m\u001b[0m\u001b[0m\n\u001b[1;32m----> 6\u001b[1;33m \u001b[0mprint\u001b[0m\u001b[1;33m(\u001b[0m\u001b[0munclear\u001b[0m\u001b[1;33m(\u001b[0m\u001b[1;36m1\u001b[0m\u001b[1;33m)\u001b[0m \u001b[1;33m+\u001b[0m \u001b[0munclear\u001b[0m\u001b[1;33m(\u001b[0m\u001b[1;36m2\u001b[0m\u001b[1;33m)\u001b[0m\u001b[1;33m)\u001b[0m\u001b[1;33m\u001b[0m\u001b[1;33m\u001b[0m\u001b[0m\n\u001b[0m",
      "\u001b[1;31mTypeError\u001b[0m: unsupported operand type(s) for +: 'int' and 'NoneType'"
     ]
    }
   ],
   "source": [
    "# What is the expected behavior of the following code?\n",
    "def unclear(x):\n",
    "    if x % 2 == 1:\n",
    "        return 0\n",
    "\n",
    "print(unclear(1) + unclear(2))      # 0 + None so it will error\n",
    "\n",
    "# cause a runtime exception"
   ]
  },
  {
   "cell_type": "code",
   "execution_count": null,
   "metadata": {},
   "outputs": [],
   "source": [
    "# If any of a class's components has a name that starts with two underscores (___), then:\n",
    "\n",
    "# the class component's name will be mangled"
   ]
  },
  {
   "cell_type": "code",
   "execution_count": null,
   "metadata": {},
   "outputs": [],
   "source": [
    "# If you need to serve two different exceptions called Ex1 and Ex2 in one except branch, you can write: \n",
    "\n",
    "# except (ex1, Ex2):"
   ]
  },
  {
   "cell_type": "code",
   "execution_count": null,
   "metadata": {},
   "outputs": [],
   "source": [
    "# A function called issubclass (c1, c2) is able to check if:\n",
    "\n",
    "# c1 is a subclass of c2"
   ]
  },
  {
   "cell_type": "code",
   "execution_count": null,
   "metadata": {},
   "outputs": [],
   "source": [
    "# A class constructor (Choose two.)\n",
    "\n",
    "# cannot be invoked directly from inside the class\n",
    "# can be invoked directly from any of the subclasses"
   ]
  },
  {
   "cell_type": "code",
   "execution_count": 9,
   "metadata": {},
   "outputs": [
    {
     "name": "stdout",
     "output_type": "stream",
     "text": [
      "2\n"
     ]
    }
   ],
   "source": [
    "# The following class definition is given. We want the show() method to invoke the get () method, and then output the value the get () method returns.\n",
    "# Which of the invocations should be used instead of XXX?\n",
    "\n",
    "class Myclass:\n",
    "    def __init__(self, val):\n",
    "        self.val = val\n",
    "    def get(self):\n",
    "        return self.val\n",
    "    def show(self):\n",
    "        print(self.get())       # XXX\n",
    "\n",
    "Myclass(2).show()\n",
    "# print(self.get())\n"
   ]
  },
  {
   "cell_type": "code",
   "execution_count": null,
   "metadata": {},
   "outputs": [],
   "source": [
    "# If S is a stream open for reading, what do you expect from the following invocation?\n",
    "c = s.read()\n",
    "# the whole file content will be read and stored in the string called C"
   ]
  },
  {
   "cell_type": "code",
   "execution_count": null,
   "metadata": {},
   "outputs": [],
   "source": [
    "# You are going to read 16 bytes from a binary file into a bytearray called data. Which lines would you use? (Choose two.)\n",
    "\n",
    "# data = bytearray(16)\n",
    "# bf.readinto(data)\n",
    "\n",
    "# data = bytearray(binfile.read(16))"
   ]
  },
  {
   "cell_type": "code",
   "execution_count": 1,
   "metadata": {},
   "outputs": [
    {
     "name": "stdout",
     "output_type": "stream",
     "text": [
      "True True\n"
     ]
    }
   ],
   "source": [
    "# What is the expected output of the following snippet?\n",
    "class X:\n",
    "    pass\n",
    "class Y(X):\n",
    "    pass\n",
    "class Z(Y):\n",
    "    pass\n",
    "\n",
    "x = Z()\n",
    "z = Z()\n",
    "\n",
    "print(isinstance(x, Z), isinstance(z, Z))\n",
    "\n",
    "# True True"
   ]
  },
  {
   "cell_type": "code",
   "execution_count": 3,
   "metadata": {},
   "outputs": [],
   "source": [
    "# Assuming that the code below has been executed successfully, which of the following expressions will always evaluate to True? (Choose two.)\n",
    "import random\n",
    "\n",
    "random.seed(1)\n",
    "v1 = random.random()        # 0.13436424411240122\n",
    "random.seed(1)\n",
    "v2 = random.random()        # 0.13436424411240122\n",
    "\n",
    "# v1 == v2      as same seed\n",
    "# random.choice([1,2,3]) >= 1"
   ]
  },
  {
   "cell_type": "code",
   "execution_count": null,
   "metadata": {},
   "outputs": [],
   "source": [
    "# Which one of the platform module functions should be used to determine the underlying platform name?\n",
    "\n",
    "# platform.platform()"
   ]
  },
  {
   "cell_type": "code",
   "execution_count": 7,
   "metadata": {},
   "outputs": [
    {
     "name": "stdout",
     "output_type": "stream",
     "text": [
      "True\n"
     ]
    }
   ],
   "source": [
    "# What is the expected output of the following code?\n",
    "import sys\n",
    "import math\n",
    "\n",
    "b1 = type(dir(math)[0]) is str\n",
    "b2 = type(sys.path[-1]) is str\n",
    "print(b1 and b2)\n",
    "\n",
    "# True"
   ]
  },
  {
   "cell_type": "code",
   "execution_count": null,
   "metadata": {},
   "outputs": [],
   "source": [
    "# With regards to the directory structure below, select the proper forms of the directives in order to import module_a. (Choose two.)\n",
    "\n",
    "# from pypack import module_a\n",
    "# import pypack.module_a"
   ]
  },
  {
   "cell_type": "code",
   "execution_count": null,
   "metadata": {},
   "outputs": [],
   "source": [
    "# A Python module named pymod.py contains a function named pyfun().\n",
    "# Which of the following snippets will let you invoke the function? (Choose two.)\n",
    "\n",
    "# import pymod pymod.pyfun()\n",
    "# from pymod import pyfun pyfun()"
   ]
  },
  {
   "cell_type": "code",
   "execution_count": null,
   "metadata": {},
   "outputs": [],
   "source": [
    "# What is true about Python packages? (Choose two.)\n",
    "\n",
    "# a package is a group of related modules\n",
    "# the pyc extension is used to mark semi-compiled Python packages"
   ]
  },
  {
   "cell_type": "code",
   "execution_count": 9,
   "metadata": {},
   "outputs": [
    {
     "name": "stdout",
     "output_type": "stream",
     "text": [
      "1\n"
     ]
    }
   ],
   "source": [
    "# What is the expected behavior of the following code?\n",
    "m = 0\n",
    "\n",
    "def foo(n):\n",
    "    global m\n",
    "    assert m != 0\n",
    "    try:\n",
    "        return 1/n\n",
    "    except ArithmeticError:\n",
    "        raise ValueError\n",
    "\n",
    "try:\n",
    "    foo(0)\n",
    "except ArithmeticError:\n",
    "    m += 2\n",
    "except:\n",
    "    m += 1\n",
    "print(m)"
   ]
  },
  {
   "cell_type": "code",
   "execution_count": 1,
   "metadata": {},
   "outputs": [
    {
     "name": "stdout",
     "output_type": "stream",
     "text": [
      "1\n"
     ]
    }
   ],
   "source": [
    "# What is the expected behavior of the following code?\n",
    "\n",
    "s = '2A'\n",
    "\n",
    "try:\n",
    "    n = int(s)\n",
    "except TypeError:\n",
    "    n = 3\n",
    "except LookupError:\n",
    "    n = 2\n",
    "except:\n",
    "    n = 1\n",
    "\n",
    "print(n)"
   ]
  },
  {
   "cell_type": "code",
   "execution_count": 3,
   "metadata": {},
   "outputs": [
    {
     "name": "stdout",
     "output_type": "stream",
     "text": [
      "0.0\n",
      "0.0\n"
     ]
    }
   ],
   "source": [
    "# Which of the following snippets will execute without raising any unhandled exceptions? (Choose two.)\n",
    "try:\n",
    "    print(0/0)\n",
    "except:\n",
    "    print(0/1)\n",
    "else:\n",
    "    print(0/2)\n",
    "\n",
    "import math\n",
    "\n",
    "try:\n",
    "    print(math.sqrt(-1))\n",
    "except:\n",
    "    print(math.sqrt(0))\n",
    "else:\n",
    "    print(math.sqrt(1))"
   ]
  },
  {
   "cell_type": "code",
   "execution_count": 1,
   "metadata": {},
   "outputs": [
    {
     "name": "stdout",
     "output_type": "stream",
     "text": [
      "list assignment index out of range\n"
     ]
    }
   ],
   "source": [
    "# What is the expected behavior of the following code?\n",
    "\n",
    "my_list = [1, 2, 3]\n",
    "try:\n",
    "    my_list[3] = my_list[2]\n",
    "except BaseException as error:\n",
    "    print(error)\n",
    "\n",
    "# it output list assignment index out of range"
   ]
  },
  {
   "cell_type": "code",
   "execution_count": 1,
   "metadata": {},
   "outputs": [
    {
     "name": "stdout",
     "output_type": "stream",
     "text": [
      "I feel fine\n"
     ]
    },
    {
     "ename": "Exception",
     "evalue": "What a pity",
     "output_type": "error",
     "traceback": [
      "\u001b[1;31m---------------------------------------------------------------------------\u001b[0m",
      "\u001b[1;31mException\u001b[0m                                 Traceback (most recent call last)",
      "\u001b[1;32m~\\AppData\\Local\\Temp/ipykernel_13392/3371588675.py\u001b[0m in \u001b[0;36m<module>\u001b[1;34m\u001b[0m\n\u001b[0;32m      9\u001b[0m \u001b[1;32mtry\u001b[0m\u001b[1;33m:\u001b[0m\u001b[1;33m\u001b[0m\u001b[1;33m\u001b[0m\u001b[0m\n\u001b[0;32m     10\u001b[0m     \u001b[0mprint\u001b[0m\u001b[1;33m(\u001b[0m\u001b[1;34m\"I feel fine\"\u001b[0m\u001b[1;33m)\u001b[0m\u001b[1;33m\u001b[0m\u001b[1;33m\u001b[0m\u001b[0m\n\u001b[1;32m---> 11\u001b[1;33m     \u001b[1;32mraise\u001b[0m \u001b[0mException\u001b[0m\u001b[1;33m(\u001b[0m\u001b[1;34m\"What a pity\"\u001b[0m\u001b[1;33m)\u001b[0m\u001b[1;33m\u001b[0m\u001b[1;33m\u001b[0m\u001b[0m\n\u001b[0m\u001b[0;32m     12\u001b[0m \u001b[1;32mexcept\u001b[0m \u001b[0mE\u001b[0m \u001b[1;32mas\u001b[0m \u001b[0me\u001b[0m\u001b[1;33m:\u001b[0m\u001b[1;33m\u001b[0m\u001b[1;33m\u001b[0m\u001b[0m\n\u001b[0;32m     13\u001b[0m     \u001b[0mprint\u001b[0m\u001b[1;33m(\u001b[0m\u001b[0me\u001b[0m\u001b[1;33m)\u001b[0m\u001b[1;33m\u001b[0m\u001b[1;33m\u001b[0m\u001b[0m\n",
      "\u001b[1;31mException\u001b[0m: What a pity"
     ]
    }
   ],
   "source": [
    "# What's true about the following snippet? (Choose 2)\n",
    "\n",
    "class E(Exception):\n",
    "    def __init__(self, message):\n",
    "        self.message = message\n",
    "    def __atr__(self):\n",
    "        return \"It's nice to see you\"\n",
    "    \n",
    "try:\n",
    "    print(\"I feel fine\")\n",
    "    raise Exception(\"What a pity\")\n",
    "except E as e:\n",
    "    print(e)\n",
    "else:\n",
    "    print(\"The show must go on\")\n",
    "\n",
    "# the string I feel fine will be seen\n",
    "# the string what a pity will be seen"
   ]
  },
  {
   "cell_type": "code",
   "execution_count": 2,
   "metadata": {},
   "outputs": [
    {
     "name": "stdout",
     "output_type": "stream",
     "text": [
      "True\n",
      "True\n"
     ]
    }
   ],
   "source": [
    "# Which of the following expressions evaluate to True? (Choose two.)\n",
    "\n",
    "print(chr(ord('A')+1) == 'B')\n",
    "print(len('\\'') == 1)"
   ]
  },
  {
   "cell_type": "code",
   "execution_count": 3,
   "metadata": {},
   "outputs": [
    {
     "data": {
      "text/plain": [
       "2"
      ]
     },
     "execution_count": 3,
     "metadata": {},
     "output_type": "execute_result"
    }
   ],
   "source": [
    "# Which of the following invocations are valid? (Choose two.)\n",
    "\n",
    "sorted(\"python\")\n",
    "\"python\".index(\"th\")"
   ]
  },
  {
   "cell_type": "code",
   "execution_count": 4,
   "metadata": {},
   "outputs": [
    {
     "name": "stdout",
     "output_type": "stream",
     "text": [
      "0\n"
     ]
    }
   ],
   "source": [
    "# What is the expected behavior of the following code?\n",
    "string = str(1/3)\n",
    "dummy = ''\n",
    "for character in string:\n",
    "    dummy = character + dummy\n",
    "print(dummy[-1])\n",
    "\n",
    "# 0"
   ]
  },
  {
   "cell_type": "code",
   "execution_count": null,
   "metadata": {},
   "outputs": [],
   "source": [
    "# Which of the following statements are true? (Choose two.)\n",
    "\n",
    "# II in ACII stands for Information Interchange\n",
    "# a code point is a number assigned to a given character"
   ]
  },
  {
   "cell_type": "code",
   "execution_count": 5,
   "metadata": {},
   "outputs": [
    {
     "data": {
      "text/plain": [
       "True"
      ]
     },
     "execution_count": 5,
     "metadata": {},
     "output_type": "execute_result"
    }
   ],
   "source": [
    "# Which of the following expressions evaluate to True? (Choose two.)\n",
    "\n",
    "str(1-1) in '123456789'[:2]\n",
    "'True' not in 'False'"
   ]
  },
  {
   "cell_type": "code",
   "execution_count": 6,
   "metadata": {},
   "outputs": [
    {
     "name": "stdout",
     "output_type": "stream",
     "text": [
      "False\n"
     ]
    }
   ],
   "source": [
    "# What is the expected behavior of the following code?\n",
    "the_list = \"alpha;beta;gamma\".split(\":\")\n",
    "the_string = ''.join(the_list)\n",
    "print(the_string.isalpha())     # isalpha() Check if all the characters in the text are letters\n",
    "\n",
    "# false"
   ]
  },
  {
   "cell_type": "code",
   "execution_count": 8,
   "metadata": {},
   "outputs": [
    {
     "data": {
      "text/plain": [
       "True"
      ]
     },
     "execution_count": 8,
     "metadata": {},
     "output_type": "execute_result"
    }
   ],
   "source": [
    "# Which of the following expressions evaluate to True? (Choose two.)\n",
    "121 + 1 != '1' + 2 * '2'\n",
    "'3.14' != str(3.1415)"
   ]
  },
  {
   "cell_type": "code",
   "execution_count": 16,
   "metadata": {},
   "outputs": [
    {
     "data": {
      "text/plain": [
       "True"
      ]
     },
     "execution_count": 16,
     "metadata": {},
     "output_type": "execute_result"
    }
   ],
   "source": [
    "# Assuming that the snippet below has been executed successfully, which of the following expressions evaluate to True? (Choose two.) \n",
    "string = 'python'[::2] \n",
    "string = string[-1] + string[-2]\n",
    "\n",
    "string[0] == 'o'\n",
    "string[0] == string[-2]\n",
    "\n",
    "# as string give ot\n"
   ]
  },
  {
   "cell_type": "code",
   "execution_count": 20,
   "metadata": {},
   "outputs": [
    {
     "name": "stdout",
     "output_type": "stream",
     "text": [
      "1\n"
     ]
    }
   ],
   "source": [
    "# What is the expected behavior of the following code?\n",
    "class Super:\n",
    "    def make(self):\n",
    "        return 0\n",
    "    def doit(self):\n",
    "        return self.make()\n",
    "    \n",
    "class Sub_A(Super):\n",
    "    def make(self):\n",
    "        return 1\n",
    "\n",
    "class Sub_B(Super):\n",
    "    pass\n",
    "\n",
    "a = Sub_A()\n",
    "b = Sub_B()\n",
    "print(a.doit() + b.doit())\n",
    "\n",
    "# 1 as 1 + 0 "
   ]
  },
  {
   "cell_type": "code",
   "execution_count": 25,
   "metadata": {},
   "outputs": [],
   "source": [
    "# Assuming that the following inheritance set is in force, which of the following classes are declared properly? (Choose two.)\n",
    "class A:\n",
    "    pass\n",
    "\n",
    "class B(A):\n",
    "    pass\n",
    "\n",
    "class C(A):\n",
    "    pass\n",
    "\n",
    "class D(B):\n",
    "    pass\n",
    "\n",
    "class Class_4(D,A): pass\n",
    "class Class_1(C,D): pass"
   ]
  },
  {
   "cell_type": "code",
   "execution_count": 26,
   "metadata": {},
   "outputs": [
    {
     "name": "stdout",
     "output_type": "stream",
     "text": [
      "False upper\n"
     ]
    }
   ],
   "source": [
    "# What is the expected output of the following snippet?\n",
    "class Upper:\n",
    "    def method(self):\n",
    "        return 'upper'\n",
    "    \n",
    "class Lower(Upper):\n",
    "    def method(self):\n",
    "        return 'lower'\n",
    "    \n",
    "object = Upper()\n",
    "print(isinstance(object, Lower), end=' ')\n",
    "print(object.method())"
   ]
  },
  {
   "cell_type": "code",
   "execution_count": 29,
   "metadata": {},
   "outputs": [
    {
     "data": {
      "text/plain": [
       "True"
      ]
     },
     "execution_count": 29,
     "metadata": {},
     "output_type": "execute_result"
    }
   ],
   "source": [
    "# Assuming that the code below has been placed inside a file named code.py and executed successfully, \n",
    "# which of the following expressions evaluate to True? (Choose two.)\n",
    "class ClassA:\n",
    "    var = 1\n",
    "    def __init__(self, prop):\n",
    "        prop1 = prop2 = prop\n",
    "    def __atr__(self):\n",
    "        return\n",
    "    \n",
    "class ClassB(ClassA):\n",
    "    def __init__(self, prop):\n",
    "        prop3 = prop ** 2\n",
    "        super().__init__(prop)\n",
    "\n",
    "object = ClassB(2)\n",
    "\n",
    "ClassA.__module__ == '__main__'\n",
    "str('Object') == 'Object'"
   ]
  },
  {
   "cell_type": "code",
   "execution_count": 31,
   "metadata": {},
   "outputs": [
    {
     "name": "stdout",
     "output_type": "stream",
     "text": [
      "2 1\n",
      "3\n"
     ]
    }
   ],
   "source": [
    "# What is the expected behavior of the following code?\n",
    "\n",
    "class Class:\n",
    "    __Var = 0\n",
    "    def foo(self):\n",
    "        Class._Class__Var += 1\n",
    "        self.__prop = Class._Class__Var\n",
    "\n",
    "o1 = Class()\n",
    "o1.foo()\n",
    "o2 = Class()\n",
    "o2.foo()\n",
    "print(o2._Class__Var + o1._Class__prop)\n",
    "\n",
    "# 3 as 2 + 1"
   ]
  },
  {
   "cell_type": "code",
   "execution_count": 32,
   "metadata": {},
   "outputs": [
    {
     "name": "stdout",
     "output_type": "stream",
     "text": [
      "0\n"
     ]
    }
   ],
   "source": [
    "# What is the expected behavior of the following code?\n",
    "class Class:\n",
    "    Variable = 0\n",
    "    def __init__(self):\n",
    "        self.value = 0\n",
    "\n",
    "object_1 = Class()\n",
    "object_1.Variable += 1\n",
    "object_2 = Class()\n",
    "object_2.value += 1\n",
    "print(object_2.Variable + object_1.value)\n",
    "\n",
    "# 0"
   ]
  },
  {
   "cell_type": "code",
   "execution_count": null,
   "metadata": {},
   "outputs": [],
   "source": [
    "# What is true about Object-Oriented Programming in Python? (Choose two.)\n",
    "\n",
    "# a subclass is usually more specialized than its superclass\n",
    "#  the same class can be used many times to build a number of objects"
   ]
  },
  {
   "cell_type": "code",
   "execution_count": null,
   "metadata": {},
   "outputs": [],
   "source": [
    "# What is true about Python class constructors? (Choose two.)\n",
    "\n",
    "# the constructor is a method named __init__\n",
    "# the constructor must have at least one parameter"
   ]
  }
 ],
 "metadata": {
  "kernelspec": {
   "display_name": "Python 3",
   "language": "python",
   "name": "python3"
  },
  "language_info": {
   "codemirror_mode": {
    "name": "ipython",
    "version": 3
   },
   "file_extension": ".py",
   "mimetype": "text/x-python",
   "name": "python",
   "nbconvert_exporter": "python",
   "pygments_lexer": "ipython3",
   "version": "3.8.10"
  }
 },
 "nbformat": 4,
 "nbformat_minor": 2
}
